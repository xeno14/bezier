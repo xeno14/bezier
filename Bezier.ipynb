{
 "cells": [
  {
   "cell_type": "code",
   "execution_count": 1,
   "metadata": {
    "collapsed": true
   },
   "outputs": [],
   "source": [
    "%matplotlib inline\n",
    "import numpy as np\n",
    "from numpy import linalg as la\n",
    "import matplotlib.pyplot as plt\n",
    "import pandas"
   ]
  },
  {
   "cell_type": "markdown",
   "metadata": {},
   "source": [
    "# Bezier曲線"
   ]
  },
  {
   "cell_type": "markdown",
   "metadata": {},
   "source": [
    "## Bezier曲線の定義\n",
    "\n",
    "制御点を$\\vec{B}_i (0\\leq i \\leq N-1)$とすると、Bezier曲線は\n",
    "\n",
    "$$\n",
    "\\vec{P(t)} = \\sum_i^{N-1} \\vec{B}_i J_{(N-1),i}(t)\n",
    "$$\n",
    "\n",
    "と表される。ここで、\n",
    "$$\n",
    "J_{n,i}(t) = {}_n C_i t^i (1-t)^{n-i}\n",
    "$$\n",
    "である。"
   ]
  },
  {
   "cell_type": "code",
   "execution_count": 2,
   "metadata": {
    "collapsed": true
   },
   "outputs": [],
   "source": [
    "from scipy.misc import comb\n",
    "def J(n, i, t):\n",
    "    return comb(n, i) * t**i * (1-t)**(n-i)"
   ]
  },
  {
   "cell_type": "code",
   "execution_count": 3,
   "metadata": {
    "collapsed": true
   },
   "outputs": [],
   "source": [
    "def Bezier(t, B):\n",
    "    N = len(B)\n",
    "    \n",
    "    Jmtx = np.array([J(N-1, i, t) for i in range(N)])\n",
    "    return np.dot(Jmtx, B)"
   ]
  },
  {
   "cell_type": "code",
   "execution_count": 4,
   "metadata": {
    "collapsed": false,
    "scrolled": true
   },
   "outputs": [
    {
     "data": {
      "text/plain": [
       "<matplotlib.collections.PathCollection at 0x114c1ebe0>"
      ]
     },
     "execution_count": 4,
     "metadata": {},
     "output_type": "execute_result"
    },
    {
     "data": {
      "image/png": "[encoded data removed]",
      "text/plain": [
       "<matplotlib.figure.Figure at 0x114b23d30>"
      ]
     },
     "metadata": {},
     "output_type": "display_data"
    }
   ],
   "source": [
    "B = np.array([\n",
    "        [0, 0], [1, 1], [2, 1], [3, 0]\n",
    "    ])\n",
    "ts = np.linspace(0, 1, 1000)\n",
    "p = np.array([Bezier(t, B) for t in ts])\n",
    "plt.plot(p[:,0], p[:,1])\n",
    "plt.scatter(B[:,0], B[:,1])"
   ]
  },
  {
   "cell_type": "markdown",
   "metadata": {},
   "source": [
    "## フィッティング\n",
    "\n",
    "適当にフィッティングしてみる。`scipy.optimize.curve_fit`に制御点の座標をパラメータとして入れる。"
   ]
  },
  {
   "cell_type": "markdown",
   "metadata": {},
   "source": [
    "### フィッティング対象\n",
    "\n",
    "$$\n",
    "y = \\sqrt x\n",
    "$$"
   ]
  },
  {
   "cell_type": "code",
   "execution_count": 5,
   "metadata": {
    "collapsed": true
   },
   "outputs": [],
   "source": [
    "xdata = np.linspace(0, 1, 100)\n",
    "ydata = np.sqrt(xdata)\n",
    "data = np.array([xdata, ydata]).T"
   ]
  },
  {
   "cell_type": "code",
   "execution_count": 6,
   "metadata": {
    "collapsed": false
   },
   "outputs": [
    {
     "data": {
      "text/plain": [
       "[<matplotlib.lines.Line2D at 0x114cd7cf8>]"
      ]
     },
     "execution_count": 6,
     "metadata": {},
     "output_type": "execute_result"
    },
    {
     "data": {
      "image/png": "[encoded data removed]",
      "text/plain": [
       "<matplotlib.figure.Figure at 0x1140f79b0>"
      ]
     },
     "metadata": {},
     "output_type": "display_data"
    }
   ],
   "source": [
    "plt.plot(data[:,0], data[:,1])"
   ]
  },
  {
   "cell_type": "markdown",
   "metadata": {},
   "source": [
    "### fitting"
   ]
  },
  {
   "cell_type": "code",
   "execution_count": 7,
   "metadata": {
    "collapsed": false
   },
   "outputs": [],
   "source": [
    "def func_res(params, x, y):\n",
    "    params = np.array(params)\n",
    "    B = params.reshape(len(params)//2, 2)\n",
    "    N = len(B)\n",
    "    curve = np.array([Bezier(t, B) for t in x])\n",
    "    d = curve - np.array([x, y]).T\n",
    "    return d.reshape(1, d.shape[0]*d.shape[1])[0,:]"
   ]
  },
  {
   "cell_type": "code",
   "execution_count": 8,
   "metadata": {
    "collapsed": false,
    "scrolled": true
   },
   "outputs": [],
   "source": [
    "from scipy import optimize\n",
    "\n",
    "N = 10    # control pointの数\n",
    "p0 = np.array(list(range(N*2)))\n",
    "param, _ = optimize.leastsq(func_res, p0, args=(xdata, ydata))\n",
    "B = param.reshape(len(param)//2, 2)"
   ]
  },
  {
   "cell_type": "code",
   "execution_count": 9,
   "metadata": {
    "collapsed": false
   },
   "outputs": [
    {
     "data": {
      "text/plain": [
       "array([[  1.31054397e-09,   2.31832855e-02],\n",
       "       [  1.11111107e-01,   7.20943527e-01],\n",
       "       [  2.22222230e-01,  -2.63575537e-01],\n",
       "       [  3.33333319e-01,   1.80233226e+00],\n",
       "       [  4.44444464e-01,  -6.92237679e-01],\n",
       "       [  5.55555536e-01,   1.84650208e+00],\n",
       "       [  6.66666680e-01,   2.24133997e-01],\n",
       "       [  7.77777773e-01,   1.09769536e+00],\n",
       "       [  8.88888890e-01,   9.01616839e-01],\n",
       "       [  1.00000000e+00,   1.00313159e+00]])"
      ]
     },
     "execution_count": 9,
     "metadata": {},
     "output_type": "execute_result"
    }
   ],
   "source": [
    "B"
   ]
  },
  {
   "cell_type": "code",
   "execution_count": 10,
   "metadata": {
    "collapsed": false
   },
   "outputs": [],
   "source": [
    "ts = np.linspace(0, 1, 100)\n",
    "curve = np.array([Bezier(t, B) for t in ts])"
   ]
  },
  {
   "cell_type": "code",
   "execution_count": 11,
   "metadata": {
    "collapsed": false
   },
   "outputs": [
    {
     "data": {
      "text/plain": [
       "<matplotlib.legend.Legend at 0x11572f5c0>"
      ]
     },
     "execution_count": 11,
     "metadata": {},
     "output_type": "execute_result"
    },
    {
     "data": {
      "image/png": "[encoded data removed]",
      "text/plain": [
       "<matplotlib.figure.Figure at 0x11569edd8>"
      ]
     },
     "metadata": {},
     "output_type": "display_data"
    }
   ],
   "source": [
    "plt.plot(curve[:,0], curve[:,1], label=\"fit\")\n",
    "plt.plot(B[:,0], B[:,1], \"o\", label=\"control points\")\n",
    "plt.plot(data[:,0], data[:,1], label=\"original\", color=\"gray\")\n",
    "\n",
    "plt.legend(loc=\"lower right\")"
   ]
  }
 ],
 "metadata": {
  "kernelspec": {
   "display_name": "Python 3",
   "language": "python",
   "name": "python3"
  },
  "language_info": {
   "codemirror_mode": {
    "name": "ipython",
    "version": 3
   },
   "file_extension": ".py",
   "mimetype": "text/x-python",
   "name": "python",
   "nbconvert_exporter": "python",
   "pygments_lexer": "ipython3",
   "version": "3.5.1"
  }
 },
 "nbformat": 4,
 "nbformat_minor": 0
}
